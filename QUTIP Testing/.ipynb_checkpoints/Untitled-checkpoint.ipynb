{
 "cells": [
  {
   "cell_type": "code",
   "execution_count": 1,
   "id": "ceb303f2",
   "metadata": {},
   "outputs": [],
   "source": [
    "###Qutip is pretty slow an unoptimized, but it's really easy to use\n",
    "\n",
    "%matplotlib inline\n",
    "import matplotlib.pyplot as plt ###plotting \n",
    "import time ##Q\n",
    "import numpy as np"
   ]
  },
  {
   "cell_type": "code",
   "execution_count": 2,
   "id": "470b1eba",
   "metadata": {},
   "outputs": [],
   "source": [
    "from qutip import *\n",
    "from qutip.control import *\n",
    "\n",
    "###Create a function to compute a specified pauli op on either qubit 0 or qubit 1\n",
    "def indexedOp(label,qubit):\n",
    "    ops = {\"X\":sigmax(),\"Y\":sigmay(),\"Z\":sigmaz()}\n",
    "    if(qubit==0):\n",
    "        return tensor(ops[label],identity(2))\n",
    "    return tensor(identity(2),ops[label])\n"
   ]
  },
  {
   "cell_type": "code",
   "execution_count": 3,
   "id": "8078a58d",
   "metadata": {},
   "outputs": [],
   "source": [
    "T = 2*np.pi #total run time\n",
    "times = np.linspace(0, T, 500) #the times that will be sampled"
   ]
  },
  {
   "cell_type": "code",
   "execution_count": 4,
   "id": "78101762",
   "metadata": {},
   "outputs": [],
   "source": [
    "from qutip.qip.operations import cnot\n",
    "U = cnot() #target gate for synthesis\n",
    "R = 500 #total number of GRAPE iterations\n"
   ]
  },
  {
   "cell_type": "code",
   "execution_count": 5,
   "id": "d4f495f5",
   "metadata": {},
   "outputs": [],
   "source": [
    "from qutip.control.grape import plot_grape_control_fields, _overlap, grape_unitary_adaptive, cy_grape_unitary\n",
    "from scipy.interpolate import interp1d\n",
    "from qutip.ui.progressbar import TextProgressBar"
   ]
  },
  {
   "cell_type": "code",
   "execution_count": 6,
   "id": "1d02e98f",
   "metadata": {},
   "outputs": [],
   "source": [
    "H_ops = [indexedOp('Z',0),indexedOp('X',1),indexedOp('Y',1),indexedOp('Z',1),indexedOp('Z',0)*indexedOp('X',1)]\n",
    "H0 = indexedOp('Z',0)+indexedOp('Z',1)\n",
    "\n",
    "H_labels = [r'$Z_{0}$', r'$X_{1}$', r'$Y_{1}$',\n",
    "            r'$Z_{1}$', r'$Z_{0}X_1$'\n",
    "        ]\n",
    "\n",
    "u0 = np.array([np.random.rand(len(times)) * 2 * np.pi * 0.05 for _ in range(len(H_ops))]) #make a random array to start out\n",
    "\n",
    "u0 = [np.convolve(np.ones(10)/10, u0[idx,:], mode='same') for idx in range(len(H_ops))]\n"
   ]
  },
  {
   "cell_type": "code",
   "execution_count": null,
   "id": "1537b7f4",
   "metadata": {},
   "outputs": [],
   "source": [
    "result = cy_grape_unitary(U, H0, H_ops, R, times, u_start=u0,progress_bar=TextProgressBar())"
   ]
  },
  {
   "cell_type": "code",
   "execution_count": null,
   "id": "aa2a5bd0",
   "metadata": {
    "scrolled": true
   },
   "outputs": [],
   "source": [
    "plot_grape_control_fields(times, result.u / (2 * np.pi), H_labels, uniform_axes=True);\n"
   ]
  },
  {
   "cell_type": "code",
   "execution_count": null,
   "id": "31511eff",
   "metadata": {},
   "outputs": [],
   "source": [
    "result.U_f/result.U_f[0,0]"
   ]
  },
  {
   "cell_type": "code",
   "execution_count": null,
   "id": "2a4a884f",
   "metadata": {},
   "outputs": [],
   "source": [
    "_overlap(U, result.U_f).real, abs(_overlap(U, result.U_f)) ** 2"
   ]
  }
 ],
 "metadata": {
  "kernelspec": {
   "display_name": "Python 3 (ipykernel)",
   "language": "python",
   "name": "python3"
  },
  "language_info": {
   "codemirror_mode": {
    "name": "ipython",
    "version": 3
   },
   "file_extension": ".py",
   "mimetype": "text/x-python",
   "name": "python",
   "nbconvert_exporter": "python",
   "pygments_lexer": "ipython3",
   "version": "3.11.5"
  }
 },
 "nbformat": 4,
 "nbformat_minor": 5
}
