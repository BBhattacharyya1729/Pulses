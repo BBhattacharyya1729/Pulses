{
 "cells": [
  {
   "cell_type": "code",
   "execution_count": 1,
   "id": "f0bd4599",
   "metadata": {},
   "outputs": [],
   "source": [
    "import numpy as np\n",
    "np.random.seed(0)\n",
    "import matplotlib.pyplot as plt \n",
    "%matplotlib inline"
   ]
  },
  {
   "cell_type": "code",
   "execution_count": 2,
   "id": "be8567b7",
   "metadata": {},
   "outputs": [],
   "source": [
    "### Set up the pauli ops\n",
    "I,X,Y,Z = np.matrix([[1,0],[0,1]]),np.matrix([[0,1],[1,0]]),np.matrix([[0,-1j],[1j,0]]),np.matrix([[1,0],[0,-1]])\n",
    "[X0,Y0,Z0] = [np.kron(op,I) for op in [X,Y,Z]]\n",
    "[X1,Y1,Z1] = [np.kron(I,op) for op in [X,Y,Z]]"
   ]
  },
  {
   "cell_type": "code",
   "execution_count": 3,
   "id": "b3fbc76b",
   "metadata": {},
   "outputs": [],
   "source": [
    "from scipy.linalg import expm\n",
    "def evolve(pulses, dt, H0, H_ops):\n",
    "    \"\"\"\n",
    "    Compute the operator associated with a set of pulses\n",
    "    \n",
    "    (List[List[Float]]) pulses: The pulses. Each element should have length equal length\n",
    "    (Float) dt: duration of each pulse\n",
    "    (np.matrix) H0: The drift Hamiltonian\n",
    "    (List[np.matrix]) H_ops: The control Hamiltonians.\n",
    "    \"\"\"\n",
    "    U = np.identity(len(H0))\n",
    "    for i in range(len(pulses[0])): \n",
    "        H = H0\n",
    "        for k in range(len(pulses)):\n",
    "            H = H + pulses[k][i] * H_ops[k]\n",
    "        U=expm(-1j * dt * H) @ U\n",
    "    return U\n",
    "def getFidelity(dt, H0, H_ops,target):\n",
    "    \"\"\"\n",
    "    Get an optimizable fidelity function for a set of pulses\n",
    "    (Float) dt: Time increment\n",
    "    (np.matrix) H0: The drift Hamiltonian\n",
    "    (List[np.matrix]) H_ops: The control Hamiltonians.\n",
    "    (np.matrix) target: The target state\n",
    "    \"\"\"\n",
    "    def loss(coeffs):\n",
    "        global iterations\n",
    "        pulses = np.split(coeffs,len(H_ops))\n",
    "        U=evolve(pulses, dt, H0, H_ops)\n",
    "        fidelity = np.abs(np.trace(U.conjugate().transpose()@target))/len(target)\n",
    "        return  -1 * fidelity \n",
    "    return loss "
   ]
  },
  {
   "cell_type": "code",
   "execution_count": 4,
   "id": "eade6949",
   "metadata": {},
   "outputs": [
    {
     "name": "stdout",
     "output_type": "stream",
     "text": [
      "CNOT Fidelity: 0.9999999508258792\n"
     ]
    }
   ],
   "source": [
    "import scipy\n",
    "###Control and drift\n",
    "H_ops = [Z0,X0,Y1,Z0@X1]\n",
    "H_labels = [r'$Z_{0}$', r'$X_{0}$', r'$Y_{1}$', r'$Z_{0}X_1$']\n",
    "H0 = Z0+Z1\n",
    "CNOT = [[1,0,0,0],[0,1,0,0],[0,0,0,1],[0,0,1,0]]\n",
    "\n",
    "T=2*np.pi\n",
    "N = 10 #number of individual steps\n",
    "dt  = T/N #time interval for each step\n",
    "\n",
    "u0 = np.random.rand(N*len(H_ops)) * 2 * np.pi * 0.05 #make a random array to start out\n",
    "u0=np.convolve(np.ones(10)/10, u0,mode='same') #smooths the input\n",
    "result = scipy.optimize.minimize(fun = getFidelity(dt=dt, H0=H0, H_ops=H_ops,target=CNOT)\n",
    "                    ,x0=u0, bounds = [[-10,10]]*N*len(H_ops)\n",
    "                 )\n",
    "print(\"CNOT Fidelity: \"+str(-1 * result.fun))"
   ]
  },
  {
   "cell_type": "code",
   "execution_count": 5,
   "id": "2e7a8dc7",
   "metadata": {},
   "outputs": [],
   "source": [
    "###The parameterized lookup table we want\n",
    "def excitation(theta):\n",
    "    return expm(1j * theta/2 * (X0@ Y1 - Y0 @ X1))"
   ]
  },
  {
   "cell_type": "code",
   "execution_count": 6,
   "id": "f0334447",
   "metadata": {},
   "outputs": [
    {
     "name": "stdout",
     "output_type": "stream",
     "text": [
      "Angle 0.0 completed with fidelity 0.9999998959949931\n",
      "Angle 0.3306939635357677 completed with fidelity 0.9999999997492077\n",
      "Angle 0.6613879270715354 completed with fidelity 0.9999999994655562\n",
      "Angle 0.992081890607303 completed with fidelity 0.9999999978510685\n",
      "Angle 1.3227758541430708 completed with fidelity 0.9999999997299776\n",
      "Angle 1.6534698176788385 completed with fidelity 0.9999999993995763\n",
      "Angle 1.984163781214606 completed with fidelity 0.9999999995457941\n",
      "Angle 2.3148577447503738 completed with fidelity 0.9999999993964643\n",
      "Angle 2.6455517082861415 completed with fidelity 0.9999999993517167\n",
      "Angle 2.9762456718219092 completed with fidelity 0.9999999997440241\n",
      "Angle 3.306939635357677 completed with fidelity 0.9999999998065117\n",
      "Angle 3.6376335988934447 completed with fidelity 0.9999999991813731\n",
      "Angle 3.968327562429212 completed with fidelity 0.9999999996747735\n",
      "Angle 4.29902152596498 completed with fidelity 0.9999999997979752\n",
      "Angle 4.6297154895007475 completed with fidelity 0.9999999998428437\n",
      "Angle 4.960409453036515 completed with fidelity 0.9999999998983569\n",
      "Angle 5.291103416572283 completed with fidelity 0.9999999997605755\n",
      "Angle 5.621797380108051 completed with fidelity 0.9999999997952393\n",
      "Angle 5.9524913436438185 completed with fidelity 0.9999999996726543\n",
      "Angle 6.283185307179586 completed with fidelity 0.9999999997316995\n"
     ]
    }
   ],
   "source": [
    "T=2*np.pi\n",
    "N = 10 #number of individual steps\n",
    "dt  = T/N #time interval for each step\n",
    "\n",
    "coefficients = []\n",
    "fidelities = []\n",
    "for theta in np.linspace(0,2*np.pi,20):\n",
    "    u0 = np.zeros(N*len(H_ops))\n",
    "    if(theta == 0):\n",
    "        u0 = np.random.rand(N*len(H_ops)) * 2 * np.pi * 0.05 #make a random array to start out\n",
    "        u0=np.convolve(np.ones(10)/10, u0,mode='same') #smooths the input\n",
    "    else:\n",
    "        u0 = coefficients[len(coefficients)-1] #If we have a pulse, use the most recent one\n",
    "    result = scipy.optimize.minimize(fun = getFidelity(dt=dt, H0=H0, H_ops=H_ops,target=excitation(theta))\n",
    "                        ,x0=u0\n",
    "                     )\n",
    "    coefficients.append(result.x)\n",
    "    fidelities.append(result.fun)\n",
    "    print(\"Angle \"+str(theta)+\" completed with fidelity \"+str(-1 * result.fun))"
   ]
  },
  {
   "cell_type": "code",
   "execution_count": 7,
   "id": "26d16477",
   "metadata": {},
   "outputs": [],
   "source": [
    "coefficients = np.array(coefficients)\n",
    "def interpolate(theta,x,coefficients):\n",
    "    coeffs = np.zeros(N*len(H_ops))\n",
    "    for i in range(N*len(H_ops)):\n",
    "        coeffs[i]=np.interp(x=theta,xp= x,fp=coefficients.T[i])\n",
    "    return coeffs"
   ]
  },
  {
   "cell_type": "code",
   "execution_count": 8,
   "id": "e51d4c03",
   "metadata": {},
   "outputs": [],
   "source": [
    "x=np.linspace(0,2*np.pi,1000)\n",
    "y=[]\n",
    "for i in x:\n",
    "    y.append(-1 * getFidelity(dt, H0, H_ops,excitation(i))(interpolate(i,np.linspace(0,2*np.pi,20),coefficients)))"
   ]
  },
  {
   "cell_type": "code",
   "execution_count": 9,
   "id": "27a2ff1e",
   "metadata": {},
   "outputs": [
    {
     "data": {
      "text/plain": [
       "Text(0, 0.5, 'fidelity')"
      ]
     },
     "execution_count": 9,
     "metadata": {},
     "output_type": "execute_result"
    },
    {
     "data": {
      "image/png": "[encoded data removed]",
      "text/plain": [
       "<Figure size 640x480 with 1 Axes>"
      ]
     },
     "metadata": {},
     "output_type": "display_data"
    }
   ],
   "source": [
    "plt.plot(x,y)\n",
    "plt.xlabel(\"angle\")\n",
    "plt.ylabel(\"fidelity\")"
   ]
  },
  {
   "cell_type": "code",
   "execution_count": 10,
   "id": "e5a2ab35",
   "metadata": {},
   "outputs": [
    {
     "name": "stdout",
     "output_type": "stream",
     "text": [
      "Problem Angle: 0.16352634433100022\n"
     ]
    }
   ],
   "source": [
    "thetac = min(x, key = lambda v : y[list(x).index(v)])\n",
    "print(\"Problem Angle: \"+str(thetac))"
   ]
  },
  {
   "cell_type": "code",
   "execution_count": null,
   "id": "30e3fc39",
   "metadata": {},
   "outputs": [],
   "source": []
  },
  {
   "cell_type": "code",
   "execution_count": 11,
   "id": "ed02df0c",
   "metadata": {
    "scrolled": true
   },
   "outputs": [
    {
     "name": "stdout",
     "output_type": "stream",
     "text": [
      "------------\n",
      "Angle 0.0\n",
      "Loss -0.9999998959949931\n",
      "Fidelity 0.9999998959949931\n",
      "------------\n",
      "Angle 0.16352634433100022\n",
      "Loss -0.9999999987719972\n",
      "Fidelity 0.9999999987719972\n",
      "------------\n",
      "Angle 0.3306939635357677\n",
      "Loss -0.9999999989701752\n",
      "Fidelity 0.9999999989701752\n",
      "------------\n",
      "Angle 0.6613879270715354\n",
      "Loss -0.9999999998294209\n",
      "Fidelity 0.9999999998294209\n",
      "------------\n",
      "Angle 0.992081890607303\n",
      "Loss -0.9999999996308944\n",
      "Fidelity 0.9999999996308944\n",
      "------------\n",
      "Angle 1.3227758541430708\n",
      "Loss -0.9999999998984415\n",
      "Fidelity 0.9999999998984415\n",
      "------------\n",
      "Angle 1.6534698176788385\n",
      "Loss -0.999999999869339\n",
      "Fidelity 0.999999999869339\n",
      "------------\n",
      "Angle 1.984163781214606\n",
      "Loss -0.9999999999090288\n",
      "Fidelity 0.9999999999090288\n",
      "------------\n",
      "Angle 2.3148577447503738\n",
      "Loss -0.9999999999117684\n",
      "Fidelity 0.9999999999117684\n",
      "------------\n",
      "Angle 2.6455517082861415\n",
      "Loss -0.999999999855073\n",
      "Fidelity 0.999999999855073\n",
      "------------\n",
      "Angle 2.9762456718219092\n",
      "Loss -0.9999999997737452\n",
      "Fidelity 0.9999999997737452\n",
      "------------\n",
      "Angle 3.306939635357677\n",
      "Loss -0.9999999997187952\n",
      "Fidelity 0.9999999997187952\n",
      "------------\n",
      "Angle 3.6376335988934447\n",
      "Loss -0.9999999998923081\n",
      "Fidelity 0.9999999998923081\n",
      "------------\n",
      "Angle 3.968327562429212\n",
      "Loss -0.999999999498473\n",
      "Fidelity 0.999999999498473\n",
      "------------\n",
      "Angle 4.29902152596498\n",
      "Loss -0.9999999997602338\n",
      "Fidelity 0.9999999997602338\n",
      "------------\n",
      "Angle 4.6297154895007475\n",
      "Loss -0.9999999997694745\n",
      "Fidelity 0.9999999997694745\n",
      "------------\n",
      "Angle 4.960409453036515\n",
      "Loss -0.9999999996347986\n",
      "Fidelity 0.9999999996347986\n",
      "------------\n",
      "Angle 5.291103416572283\n",
      "Loss -0.9999999996040427\n",
      "Fidelity 0.9999999996040427\n",
      "------------\n",
      "Angle 5.621797380108051\n",
      "Loss -0.9999999999119835\n",
      "Fidelity 0.9999999999119835\n",
      "------------\n",
      "Angle 5.9524913436438185\n",
      "Loss -0.9999999973553472\n",
      "Fidelity 0.9999999973553472\n",
      "------------\n",
      "Angle 6.283185307179586\n",
      "Loss -0.999999999180043\n",
      "Fidelity 0.999999999180043\n"
     ]
    }
   ],
   "source": [
    "new_coefficients = []\n",
    "new_fidelities = []\n",
    "theta_list = list(np.linspace(0,2*np.pi,20))+[thetac]\n",
    "theta_list.sort()\n",
    "for theta in theta_list:\n",
    "    u0 = np.zeros(N*len(H_ops))\n",
    "    if(theta==0):\n",
    "        u0 = coefficients[0]\n",
    "    else:\n",
    "        u0 = new_coefficients[len(new_coefficients)-1]\n",
    "    result = scipy.optimize.minimize(fun = getFidelity(dt=dt, H0=H0, H_ops=H_ops,target=excitation(theta))\n",
    "                        ,x0=u0\n",
    "                     )\n",
    "    new_coefficients.append(result.x)\n",
    "    new_fidelities.append(-1*result.fun)\n",
    "    print(\"------------\")\n",
    "    print(\"Angle \"+str(theta))\n",
    "    print(\"Loss \"+str(result.fun))\n",
    "    f=-1 * getFidelity(dt=dt, H0=H0, H_ops=H_ops,target=excitation(theta))(result.x)\n",
    "    print(\"Fidelity \"+str(f))\n"
   ]
  },
  {
   "cell_type": "code",
   "execution_count": 12,
   "id": "102c82e7",
   "metadata": {},
   "outputs": [],
   "source": [
    "new_coefficients=np.array(new_coefficients)\n",
    "x=np.linspace(0,2*np.pi,1000)\n",
    "y=[]\n",
    "for i in x:\n",
    "    y.append(-1 * getFidelity(dt, H0, H_ops,excitation(i))(interpolate(i,theta_list,new_coefficients)))"
   ]
  },
  {
   "cell_type": "code",
   "execution_count": 13,
   "id": "d5c2bf46",
   "metadata": {},
   "outputs": [
    {
     "data": {
      "text/plain": [
       "Text(0, 0.5, 'fidelity')"
      ]
     },
     "execution_count": 13,
     "metadata": {},
     "output_type": "execute_result"
    },
    {
     "data": {
      "image/png": "[encoded data removed]",
      "text/plain": [
       "<Figure size 640x480 with 1 Axes>"
      ]
     },
     "metadata": {},
     "output_type": "display_data"
    }
   ],
   "source": [
    "plt.plot(x,y)\n",
    "plt.plot(x,[np.mean(y)]*len(x),'--')\n",
    "plt.xlabel(\"angle\")\n",
    "plt.ylabel(\"fidelity\")"
   ]
  },
  {
   "cell_type": "code",
   "execution_count": 14,
   "id": "17aa00fb",
   "metadata": {},
   "outputs": [
    {
     "name": "stdout",
     "output_type": "stream",
     "text": [
      "Mean Fidelity: 0.9999782981727126\n",
      "Max Fidelity: 0.9999999997225841\n",
      "Min Fidelity: 0.999125343421519\n",
      "Largest Amplitude: 2.3517672373436986\n"
     ]
    }
   ],
   "source": [
    "print(\"Mean Fidelity: \"+str(np.mean(y)))\n",
    "print(\"Max Fidelity: \"+str(np.max(y)))\n",
    "print(\"Min Fidelity: \"+str(np.min(y)))\n",
    "print(\"Largest Amplitude: \"+str(np.max(np.abs(new_coefficients))))"
   ]
  }
 ],
 "metadata": {
  "kernelspec": {
   "display_name": "Python 3 (ipykernel)",
   "language": "python",
   "name": "python3"
  },
  "language_info": {
   "codemirror_mode": {
    "name": "ipython",
    "version": 3
   },
   "file_extension": ".py",
   "mimetype": "text/x-python",
   "name": "python",
   "nbconvert_exporter": "python",
   "pygments_lexer": "ipython3",
   "version": "3.11.5"
  }
 },
 "nbformat": 4,
 "nbformat_minor": 5
}
