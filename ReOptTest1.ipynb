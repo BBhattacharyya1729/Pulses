{
 "cells": [
  {
   "cell_type": "code",
   "execution_count": 1,
   "id": "e6da53e0",
   "metadata": {},
   "outputs": [],
   "source": [
    "import numpy as np\n",
    "import matplotlib.pyplot as plt \n",
    "%matplotlib inline"
   ]
  },
  {
   "cell_type": "code",
   "execution_count": 2,
   "id": "715b33a1",
   "metadata": {},
   "outputs": [],
   "source": [
    "### Set up the pauli ops\n",
    "I,X,Y,Z = np.matrix([[1,0],[0,1]]),np.matrix([[0,1],[1,0]]),np.matrix([[0,-1j],[1j,0]]),np.matrix([[1,0],[0,-1]])\n",
    "[X0,Y0,Z0] = [np.kron(op,I) for op in [X,Y,Z]]\n",
    "[X1,Y1,Z1] = [np.kron(I,op) for op in [X,Y,Z]]"
   ]
  },
  {
   "cell_type": "code",
   "execution_count": 3,
   "id": "5000d548",
   "metadata": {},
   "outputs": [],
   "source": [
    "from scipy.linalg import expm\n",
    "def evolve(pulses, dt, H0, H_ops):\n",
    "    \"\"\"\n",
    "    Compute the operator associated with a set of pulses\n",
    "    \n",
    "    (List[List[Float]]) pulses: The pulses. Each element should have length equal length\n",
    "    (Float) dt: duration of each pulse\n",
    "    (np.matrix) H0: The drift Hamiltonian\n",
    "    (List[np.matrix]) H_ops: The control Hamiltonians.\n",
    "    \"\"\"\n",
    "    U = np.identity(len(H0))\n",
    "    for i in range(len(pulses[0])): \n",
    "        H = H0\n",
    "        for k in range(len(pulses)):\n",
    "            H = H + pulses[k][i] * H_ops[k]\n",
    "        U=expm(-1j * dt * H) @ U\n",
    "    return U\n",
    "def getFidelity(dt, H0, H_ops,target):\n",
    "    \"\"\"\n",
    "    Get an optimizable fidelity function for a set of pulses\n",
    "    (Float) dt: Time increment\n",
    "    (np.matrix) H0: The drift Hamiltonian\n",
    "    (List[np.matrix]) H_ops: The control Hamiltonians.\n",
    "    (np.matrix) target: The target state\n",
    "    \"\"\"\n",
    "    def loss(coeffs):\n",
    "        global iterations\n",
    "        pulses = np.split(coeffs,len(H_ops))\n",
    "        U=evolve(pulses, dt, H0, H_ops)\n",
    "        fidelity = np.abs(np.trace(U.conjugate().transpose()@target))/len(target)\n",
    "        return  -1 * fidelity \n",
    "    return loss "
   ]
  },
  {
   "cell_type": "code",
   "execution_count": 4,
   "id": "bf02d903",
   "metadata": {},
   "outputs": [
    {
     "name": "stdout",
     "output_type": "stream",
     "text": [
      "CNOT Fidelity: 0.9999999966731907\n"
     ]
    }
   ],
   "source": [
    "import scipy\n",
    "###Control and drift\n",
    "H_ops = [Z0,X0,Y1,Z0@X1]\n",
    "H0 = Z0+Z1\n",
    "CNOT = [[1,0,0,0],[0,1,0,0],[0,0,0,1],[0,0,1,0]]\n",
    "\n",
    "T=2*np.pi\n",
    "N = 10 #number of individual steps\n",
    "dt  = T/N #time interval for each step\n",
    "\n",
    "u0 = np.random.rand(N*len(H_ops)) * 2 * np.pi * 0.05 #make a random array to start out\n",
    "u0=np.convolve(np.ones(10)/10, u0,mode='same') #smooths the input\n",
    "result = scipy.optimize.minimize(fun = getFidelity(dt=dt, H0=H0, H_ops=H_ops,target=CNOT)\n",
    "                    ,x0=u0, bounds = [[-10,10]]*N*len(H_ops)\n",
    "                 )\n",
    "print(\"CNOT Fidelity: \"+str(-1 * result.fun))"
   ]
  },
  {
   "cell_type": "code",
   "execution_count": 5,
   "id": "066d05d9",
   "metadata": {},
   "outputs": [],
   "source": [
    "###The parameterized lookup table we want\n",
    "def excitation(theta):\n",
    "    return expm(1j * theta/2 * (X0@ Y1 - Y0 @ X1))"
   ]
  },
  {
   "cell_type": "code",
   "execution_count": 6,
   "id": "807202c8",
   "metadata": {},
   "outputs": [
    {
     "name": "stdout",
     "output_type": "stream",
     "text": [
      "Angle 0.0 completed with fidelity 0.9999999137815146\n",
      "Angle 0.3306939635357677 completed with fidelity 0.9999999998108364\n",
      "Angle 0.6613879270715354 completed with fidelity 0.9999999997565149\n",
      "Angle 0.992081890607303 completed with fidelity 0.9999999881799988\n",
      "Angle 1.3227758541430708 completed with fidelity 0.9999999999313396\n",
      "Angle 1.6534698176788385 completed with fidelity 0.999999999804715\n",
      "Angle 1.984163781214606 completed with fidelity 0.9999999997344281\n",
      "Angle 2.3148577447503738 completed with fidelity 0.9999999992824206\n",
      "Angle 2.6455517082861415 completed with fidelity 0.9999999986957813\n",
      "Angle 2.9762456718219092 completed with fidelity 0.9999999999544353\n",
      "Angle 3.306939635357677 completed with fidelity 0.9999999847538307\n",
      "Angle 3.6376335988934447 completed with fidelity 0.9999999995924174\n",
      "Angle 3.968327562429212 completed with fidelity 0.999999999723582\n",
      "Angle 4.29902152596498 completed with fidelity 0.9999999997391308\n",
      "Angle 4.6297154895007475 completed with fidelity 0.9999999991430641\n",
      "Angle 4.960409453036515 completed with fidelity 0.9999999996041733\n",
      "Angle 5.291103416572283 completed with fidelity 0.999999999686022\n",
      "Angle 5.621797380108051 completed with fidelity 0.9999999969968077\n",
      "Angle 5.9524913436438185 completed with fidelity 0.9999999999505829\n",
      "Angle 6.283185307179586 completed with fidelity 0.9999999885223128\n"
     ]
    }
   ],
   "source": [
    "T=2*np.pi\n",
    "N = 10 #number of individual steps\n",
    "dt  = T/N #time interval for each step\n",
    "\n",
    "coefficients = []\n",
    "fidelities = []\n",
    "for theta in np.linspace(0,2*np.pi,20):\n",
    "    u0 = np.random.rand(N*len(H_ops)) * 2 * np.pi * 0.05 #make a random array to start out\n",
    "    u0=np.convolve(np.ones(10)/10, u0,mode='same') #smooths the input\n",
    "    result = scipy.optimize.minimize(fun = getFidelity(dt=dt, H0=H0, H_ops=H_ops,target=excitation(theta))\n",
    "                        ,x0=u0\n",
    "                     )\n",
    "    coefficients.append(result.x)\n",
    "    fidelities.append(-1*result.fun)\n",
    "    print(\"Angle \"+str(theta)+\" completed with fidelity \"+str(-1 * result.fun))"
   ]
  },
  {
   "cell_type": "code",
   "execution_count": 7,
   "id": "f0e35da4",
   "metadata": {},
   "outputs": [],
   "source": [
    "coefficients = np.array(coefficients)\n",
    "def interpolate(theta,coefficients):\n",
    "    coeffs = np.zeros(N*len(H_ops))\n",
    "    for i in range(N*len(H_ops)):\n",
    "        coeffs[i]=np.interp(x=theta,xp= np.linspace(0,2*np.pi,20),fp=coefficients.T[i])\n",
    "    return coeffs"
   ]
  },
  {
   "cell_type": "code",
   "execution_count": 8,
   "id": "57133d12",
   "metadata": {},
   "outputs": [],
   "source": [
    "x=np.linspace(0,2*np.pi,1000)\n",
    "y=[]\n",
    "for i in x:\n",
    "    y.append(-1 * getFidelity(dt, H0, H_ops,excitation(i))(interpolate(i,coefficients)))"
   ]
  },
  {
   "cell_type": "code",
   "execution_count": 9,
   "id": "ea731a52",
   "metadata": {},
   "outputs": [
    {
     "data": {
      "text/plain": [
       "Text(0, 0.5, 'fidelity')"
      ]
     },
     "execution_count": 9,
     "metadata": {},
     "output_type": "execute_result"
    },
    {
     "data": {
      "image/png": "[encoded data removed]",
      "text/plain": [
       "<Figure size 640x480 with 1 Axes>"
      ]
     },
     "metadata": {},
     "output_type": "display_data"
    }
   ],
   "source": [
    "plt.plot(x,y)\n",
    "plt.xlabel(\"angle\")\n",
    "plt.ylabel(\"fidelity\")"
   ]
  },
  {
   "cell_type": "code",
   "execution_count": 10,
   "id": "fcb87db9",
   "metadata": {},
   "outputs": [],
   "source": [
    "mean_coeffs = np.mean(coefficients,axis=0)\n",
    "\n",
    "def getLossFidelity(dt, H0, H_ops,target,mean):\n",
    "    \"\"\"\n",
    "    Get an optimizable fidelity function for a set of pulses\n",
    "    (Float) dt: Time increment\n",
    "    (np.matrix) H0: The drift Hamiltonian\n",
    "    (List[np.matrix]) H_ops: The control Hamiltonians.\n",
    "    (np.matrix) target: The target state\n",
    "    \"\"\"\n",
    "    def loss(coeffs):\n",
    "        global iterations\n",
    "        pulses = np.split(coeffs,len(H_ops))\n",
    "        U=evolve(pulses, dt, H0, H_ops)\n",
    "        fidelity = np.abs(np.trace(U.conjugate().transpose()@target))/len(target)\n",
    "        return  1 - 1 * fidelity + 0.1 * np.linalg.norm(coeffs - mean)\n",
    "    return loss "
   ]
  },
  {
   "cell_type": "code",
   "execution_count": 11,
   "id": "38fba666",
   "metadata": {},
   "outputs": [
    {
     "name": "stdout",
     "output_type": "stream",
     "text": [
      "------------\n",
      "Angle 0.0\n",
      "Loss 0.08829558713169611\n",
      "Fidelity 0.9906299225415992\n",
      "------------\n",
      "Angle 0.3306939635357677\n",
      "Loss 0.1028537916273517\n",
      "Fidelity 0.9849048035889152\n",
      "------------\n",
      "Angle 0.6613879270715354\n",
      "Loss 0.12859010668187704\n",
      "Fidelity 0.9846741913188771\n",
      "------------\n",
      "Angle 0.992081890607303\n",
      "Loss 0.14777953684082085\n",
      "Fidelity 0.9870457624287677\n",
      "------------\n",
      "Angle 1.3227758541430708\n",
      "Loss 0.15491230750172258\n",
      "Fidelity 0.9898382226226113\n",
      "------------\n",
      "Angle 1.6534698176788385\n",
      "Loss 0.1553940297817625\n",
      "Fidelity 0.9913229751852608\n",
      "------------\n",
      "Angle 1.984163781214606\n",
      "Loss 0.1496341000167942\n",
      "Fidelity 0.9920549507632185\n",
      "------------\n",
      "Angle 2.3148577447503738\n",
      "Loss 0.2907778900147013\n",
      "Fidelity 0.9960377499250259\n",
      "------------\n",
      "Angle 2.6455517082861415\n",
      "Loss 0.1985043882805802\n",
      "Fidelity 0.995257291453139\n",
      "------------\n",
      "Angle 2.9762456718219092\n",
      "Loss 0.19450545635544625\n",
      "Fidelity 0.996324541477236\n",
      "------------\n",
      "Angle 3.306939635357677\n",
      "Loss 0.19486789803263183\n",
      "Fidelity 0.9963957271783503\n",
      "------------\n",
      "Angle 3.6376335988934447\n",
      "Loss 0.19933072141041094\n",
      "Fidelity 0.9955156293917886\n",
      "------------\n",
      "Angle 3.968327562429212\n",
      "Loss 0.14863687096963094\n",
      "Fidelity 0.992834279204046\n",
      "------------\n",
      "Angle 4.29902152596498\n",
      "Loss 0.15864537513081173\n",
      "Fidelity 0.9922981230630427\n",
      "------------\n",
      "Angle 4.6297154895007475\n",
      "Loss 0.15815340597529298\n",
      "Fidelity 0.9914297350424034\n",
      "------------\n",
      "Angle 4.960409453036515\n",
      "Loss 0.1538855789068288\n",
      "Fidelity 0.9880454239348039\n",
      "------------\n",
      "Angle 5.291103416572283\n",
      "Loss 0.14222042202485255\n",
      "Fidelity 0.9823074818048428\n",
      "------------\n",
      "Angle 5.621797380108051\n",
      "Loss 0.12107635344034051\n",
      "Fidelity 0.981490167765218\n",
      "------------\n",
      "Angle 5.9524913436438185\n",
      "Loss 0.09807230352512258\n",
      "Fidelity 0.9837434167046214\n",
      "------------\n",
      "Angle 6.283185307179586\n",
      "Loss 0.08829558846990163\n",
      "Fidelity 0.9906309323947462\n"
     ]
    }
   ],
   "source": [
    "new_coefficients = []\n",
    "new_fidelities = []\n",
    "for theta in np.linspace(0,2*np.pi,20):\n",
    "    u0 = np.random.rand(N*len(H_ops)) * 2 * np.pi * 0.05 #make a random array to start out\n",
    "    u0=np.convolve(np.ones(10)/10, u0,mode='same') #smooths the input\n",
    "    result = scipy.optimize.minimize(fun = getLossFidelity(dt=dt, H0=H0, H_ops=H_ops,target=excitation(theta),mean=mean_coeffs)\n",
    "                        ,x0=u0\n",
    "                     )\n",
    "    new_coefficients.append(result.x)\n",
    "    new_fidelities.append(-1*result.fun)\n",
    "    print(\"------------\")\n",
    "    print(\"Angle \"+str(theta))\n",
    "    print(\"Loss \"+str(result.fun))\n",
    "    f=-1 * getFidelity(dt=dt, H0=H0, H_ops=H_ops,target=excitation(theta))(result.x)\n",
    "    print(\"Fidelity \"+str(f))\n"
   ]
  },
  {
   "cell_type": "code",
   "execution_count": 12,
   "id": "3eedf593",
   "metadata": {},
   "outputs": [],
   "source": [
    "new_coefficients = np.array(new_coefficients)"
   ]
  },
  {
   "cell_type": "code",
   "execution_count": 13,
   "id": "9b15bdc5",
   "metadata": {},
   "outputs": [],
   "source": [
    "x=np.linspace(0,2*np.pi,1000)\n",
    "y=[]\n",
    "for i in x:\n",
    "    y.append(-1 * getFidelity(dt, H0, H_ops,excitation(i))(interpolate(i,new_coefficients)))"
   ]
  },
  {
   "cell_type": "code",
   "execution_count": 14,
   "id": "94da1bf5",
   "metadata": {
    "scrolled": true
   },
   "outputs": [
    {
     "data": {
      "text/plain": [
       "Text(0, 0.5, 'fidelity')"
      ]
     },
     "execution_count": 14,
     "metadata": {},
     "output_type": "execute_result"
    },
    {
     "data": {
      "image/png": "[encoded data removed]",
      "text/plain": [
       "<Figure size 640x480 with 1 Axes>"
      ]
     },
     "metadata": {},
     "output_type": "display_data"
    }
   ],
   "source": [
    "plt.plot(x,y)\n",
    "plt.xlabel(\"angle\")\n",
    "plt.ylabel(\"fidelity\")"
   ]
  },
  {
   "cell_type": "code",
   "execution_count": 15,
   "id": "dc550591",
   "metadata": {},
   "outputs": [
    {
     "name": "stdout",
     "output_type": "stream",
     "text": [
      "------------\n",
      "Angle 0.0\n",
      "Loss 0.08304265257088082\n",
      "Fidelity 0.9896496229342971\n",
      "------------\n",
      "Angle 0.3306939635357677\n",
      "Loss 0.0966035399779222\n",
      "Fidelity 0.9869288948101413\n",
      "------------\n",
      "Angle 0.6613879270715354\n",
      "Loss 0.11973418144963653\n",
      "Fidelity 0.9869770899364119\n",
      "------------\n",
      "Angle 0.992081890607303\n",
      "Loss 0.14137324581962832\n",
      "Fidelity 0.9887630540948463\n",
      "------------\n",
      "Angle 1.3227758541430708\n",
      "Loss 0.15418541207156752\n",
      "Fidelity 0.9898072368725308\n",
      "------------\n",
      "Angle 1.6534698176788385\n",
      "Loss 0.15682829510637314\n",
      "Fidelity 0.9912021885561781\n",
      "------------\n",
      "Angle 1.984163781214606\n",
      "Loss 0.14990353249624588\n",
      "Fidelity 0.9930427188012799\n",
      "------------\n",
      "Angle 2.3148577447503738\n",
      "Loss 0.1421103991476262\n",
      "Fidelity 0.9937727459609276\n",
      "------------\n",
      "Angle 2.6455517082861415\n",
      "Loss 0.16351967613835527\n",
      "Fidelity 0.9947820516557319\n",
      "------------\n",
      "Angle 2.9762456718219092\n",
      "Loss 0.16027322540763797\n",
      "Fidelity 0.9958170320750762\n",
      "------------\n",
      "Angle 3.306939635357677\n",
      "Loss 0.16079715307330106\n",
      "Fidelity 0.9960433172690664\n",
      "------------\n",
      "Angle 3.6376335988934447\n",
      "Loss 0.16545874563051313\n",
      "Fidelity 0.9955519948301071\n",
      "------------\n",
      "Angle 3.968327562429212\n",
      "Loss 0.17214234849908325\n",
      "Fidelity 0.9954576622227708\n",
      "------------\n",
      "Angle 4.29902152596498\n",
      "Loss 0.15062010143698776\n",
      "Fidelity 0.992251945922508\n",
      "------------\n",
      "Angle 4.6297154895007475\n",
      "Loss 0.14827530477750347\n",
      "Fidelity 0.9897541072883399\n",
      "------------\n",
      "Angle 4.960409453036515\n",
      "Loss 0.1411482810882034\n",
      "Fidelity 0.9841540959967269\n",
      "------------\n",
      "Angle 5.291103416572283\n",
      "Loss 0.12441539563715649\n",
      "Fidelity 0.9819635354602408\n",
      "------------\n",
      "Angle 5.621797380108051\n",
      "Loss 0.10403760177695981\n",
      "Fidelity 0.9833370101953354\n",
      "------------\n",
      "Angle 5.9524913436438185\n",
      "Loss 0.08742087465222377\n",
      "Fidelity 0.9863597822328517\n",
      "------------\n",
      "Angle 6.283185307179586\n",
      "Loss 0.08304265268801178\n",
      "Fidelity 0.9896497059925949\n"
     ]
    }
   ],
   "source": [
    "mean_coeffs = np.mean(new_coefficients,axis=0)\n",
    "newer_coefficients = []\n",
    "newer_fidelities = []\n",
    "for theta in np.linspace(0,2*np.pi,20):\n",
    "    u0 = np.random.rand(N*len(H_ops)) * 2 * np.pi * 0.05 #make a random array to start out\n",
    "    u0=np.convolve(np.ones(10)/10, u0,mode='same') #smooths the input\n",
    "    result = scipy.optimize.minimize(fun = getLossFidelity(dt=dt, H0=H0, H_ops=H_ops,target=excitation(theta),mean=mean_coeffs)\n",
    "                        ,x0=u0\n",
    "                     )\n",
    "    newer_coefficients.append(result.x)\n",
    "    newer_fidelities.append(-1*result.fun)\n",
    "    print(\"------------\")\n",
    "    print(\"Angle \"+str(theta))\n",
    "    print(\"Loss \"+str(result.fun))\n",
    "    f=-1 * getFidelity(dt=dt, H0=H0, H_ops=H_ops,target=excitation(theta))(result.x)\n",
    "    print(\"Fidelity \"+str(f))\n"
   ]
  },
  {
   "cell_type": "code",
   "execution_count": 16,
   "id": "66b98ca1",
   "metadata": {},
   "outputs": [],
   "source": [
    "newer_coefficients = np.array(newer_coefficients)\n",
    "x=np.linspace(0,2*np.pi,1000)\n",
    "y=[]\n",
    "for i in x:\n",
    "    y.append(-1 * getFidelity(dt, H0, H_ops,excitation(i))(interpolate(i,newer_coefficients)))"
   ]
  },
  {
   "cell_type": "code",
   "execution_count": 17,
   "id": "281e0d3b",
   "metadata": {},
   "outputs": [
    {
     "data": {
      "text/plain": [
       "Text(0, 0.5, 'fidelity')"
      ]
     },
     "execution_count": 17,
     "metadata": {},
     "output_type": "execute_result"
    },
    {
     "data": {
      "image/png": "[encoded data removed]",
      "text/plain": [
       "<Figure size 640x480 with 1 Axes>"
      ]
     },
     "metadata": {},
     "output_type": "display_data"
    }
   ],
   "source": [
    "plt.plot(x,y)\n",
    "plt.xlabel(\"angle\")\n",
    "plt.ylabel(\"fidelity\")"
   ]
  },
  {
   "cell_type": "code",
   "execution_count": null,
   "id": "323a206c",
   "metadata": {},
   "outputs": [],
   "source": []
  }
 ],
 "metadata": {
  "kernelspec": {
   "display_name": "Python 3 (ipykernel)",
   "language": "python",
   "name": "python3"
  },
  "language_info": {
   "codemirror_mode": {
    "name": "ipython",
    "version": 3
   },
   "file_extension": ".py",
   "mimetype": "text/x-python",
   "name": "python",
   "nbconvert_exporter": "python",
   "pygments_lexer": "ipython3",
   "version": "3.11.5"
  }
 },
 "nbformat": 4,
 "nbformat_minor": 5
}
